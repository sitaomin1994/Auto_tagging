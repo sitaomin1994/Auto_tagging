{
 "cells": [
  {
   "cell_type": "markdown",
   "metadata": {},
   "source": [
    "### Import Dataset"
   ]
  },
  {
   "cell_type": "code",
   "execution_count": 1,
   "metadata": {},
   "outputs": [
    {
     "name": "stdout",
     "output_type": "stream",
     "text": [
      "[nltk_data] Downloading package stopwords to /Users/apple/nltk_data...\n",
      "[nltk_data]   Package stopwords is already up-to-date!\n",
      "[nltk_data] Downloading package words to /Users/apple/nltk_data...\n",
      "[nltk_data]   Package words is already up-to-date!\n",
      "[nltk_data] Downloading package wordnet to /Users/apple/nltk_data...\n",
      "[nltk_data]   Package wordnet is already up-to-date!\n"
     ]
    }
   ],
   "source": [
    "import pandas as pd\n",
    "import numpy as np\n",
    "import matplotlib.pyplot as plt\n",
    "import seaborn as sns\n",
    "from collections import Counter\n",
    "\n",
    "# funtions to handle labels\n",
    "from utils.handle_labels import get_tag_counts_and_labels\n",
    "from utils.handle_labels import drop_labels\n",
    "from utils.handle_labels import group_labels\n",
    "from utils.handle_labels import categories_count\n",
    "from utils.handle_labels import get_imbalance\n",
    "from utils.handle_labels import label_distribution\n",
    "from utils.handle_labels import number_of_labels\n",
    "from utils.message_preprocess import message_processing\n",
    "# plot untils funcion\n",
    "from utils.plot_utils import pie_plot"
   ]
  },
  {
   "cell_type": "code",
   "execution_count": 2,
   "metadata": {},
   "outputs": [
    {
     "name": "stdout",
     "output_type": "stream",
     "text": [
      "(2952, 22)\n",
      "(2952, 22)\n",
      "(5904, 12)\n"
     ]
    },
    {
     "data": {
      "text/html": [
       "<div>\n",
       "<style scoped>\n",
       "    .dataframe tbody tr th:only-of-type {\n",
       "        vertical-align: middle;\n",
       "    }\n",
       "\n",
       "    .dataframe tbody tr th {\n",
       "        vertical-align: top;\n",
       "    }\n",
       "\n",
       "    .dataframe thead th {\n",
       "        text-align: right;\n",
       "    }\n",
       "</style>\n",
       "<table border=\"1\" class=\"dataframe\">\n",
       "  <thead>\n",
       "    <tr style=\"text-align: right;\">\n",
       "      <th></th>\n",
       "      <th>application</th>\n",
       "      <th>csha</th>\n",
       "      <th>commit message</th>\n",
       "      <th>maintenance</th>\n",
       "      <th>Bug fix</th>\n",
       "      <th>Documentation</th>\n",
       "      <th>Clean up</th>\n",
       "      <th>Source Control</th>\n",
       "      <th>Feature Add</th>\n",
       "      <th>Merge</th>\n",
       "      <th>Refactoring</th>\n",
       "      <th>Token Replace</th>\n",
       "    </tr>\n",
       "  </thead>\n",
       "  <tbody>\n",
       "    <tr>\n",
       "      <th>0</th>\n",
       "      <td>google-closure-compiler</td>\n",
       "      <td>d84964855e190bf663d38b7fa37f3746deb2b3aa</td>\n",
       "      <td>chang look extend interfac first</td>\n",
       "      <td>1.0</td>\n",
       "      <td>0.0</td>\n",
       "      <td>0.0</td>\n",
       "      <td>0.0</td>\n",
       "      <td>0.0</td>\n",
       "      <td>0.0</td>\n",
       "      <td>0.0</td>\n",
       "      <td>0.0</td>\n",
       "      <td>0.0</td>\n",
       "    </tr>\n",
       "    <tr>\n",
       "      <th>1</th>\n",
       "      <td>google-closure-compiler</td>\n",
       "      <td>d1a63725ce21a1c6901ec762dd745ac58b8866b2</td>\n",
       "      <td>support</td>\n",
       "      <td>1.0</td>\n",
       "      <td>0.0</td>\n",
       "      <td>0.0</td>\n",
       "      <td>0.0</td>\n",
       "      <td>0.0</td>\n",
       "      <td>0.0</td>\n",
       "      <td>0.0</td>\n",
       "      <td>0.0</td>\n",
       "      <td>0.0</td>\n",
       "    </tr>\n",
       "    <tr>\n",
       "      <th>2</th>\n",
       "      <td>google-closure-compiler</td>\n",
       "      <td>47f75968703051dc09ed001ee84cce81e78835f7</td>\n",
       "      <td>mark</td>\n",
       "      <td>1.0</td>\n",
       "      <td>0.0</td>\n",
       "      <td>0.0</td>\n",
       "      <td>0.0</td>\n",
       "      <td>0.0</td>\n",
       "      <td>0.0</td>\n",
       "      <td>0.0</td>\n",
       "      <td>0.0</td>\n",
       "      <td>0.0</td>\n",
       "    </tr>\n",
       "    <tr>\n",
       "      <th>3</th>\n",
       "      <td>google-closure-compiler</td>\n",
       "      <td>ee5c095b4237da991a911fa459514ca942ede7e0</td>\n",
       "      <td>remov thread warn report use think anyon under...</td>\n",
       "      <td>0.0</td>\n",
       "      <td>0.0</td>\n",
       "      <td>0.0</td>\n",
       "      <td>1.0</td>\n",
       "      <td>0.0</td>\n",
       "      <td>0.0</td>\n",
       "      <td>0.0</td>\n",
       "      <td>0.0</td>\n",
       "      <td>0.0</td>\n",
       "    </tr>\n",
       "    <tr>\n",
       "      <th>4</th>\n",
       "      <td>google-closure-compiler</td>\n",
       "      <td>fc1f4e841b3ef0f6fa4578b673e803c3df733a0d</td>\n",
       "      <td>make class statement call work correct fix</td>\n",
       "      <td>0.0</td>\n",
       "      <td>1.0</td>\n",
       "      <td>0.0</td>\n",
       "      <td>0.0</td>\n",
       "      <td>0.0</td>\n",
       "      <td>0.0</td>\n",
       "      <td>0.0</td>\n",
       "      <td>0.0</td>\n",
       "      <td>0.0</td>\n",
       "    </tr>\n",
       "  </tbody>\n",
       "</table>\n",
       "</div>"
      ],
      "text/plain": [
       "               application                                      csha  \\\n",
       "0  google-closure-compiler  d84964855e190bf663d38b7fa37f3746deb2b3aa   \n",
       "1  google-closure-compiler  d1a63725ce21a1c6901ec762dd745ac58b8866b2   \n",
       "2  google-closure-compiler  47f75968703051dc09ed001ee84cce81e78835f7   \n",
       "3  google-closure-compiler  ee5c095b4237da991a911fa459514ca942ede7e0   \n",
       "4  google-closure-compiler  fc1f4e841b3ef0f6fa4578b673e803c3df733a0d   \n",
       "\n",
       "                                      commit message  maintenance  Bug fix  \\\n",
       "0                   chang look extend interfac first          1.0      0.0   \n",
       "1                                            support          1.0      0.0   \n",
       "2                                               mark          1.0      0.0   \n",
       "3  remov thread warn report use think anyon under...          0.0      0.0   \n",
       "4         make class statement call work correct fix          0.0      1.0   \n",
       "\n",
       "   Documentation  Clean up  Source Control  Feature Add  Merge  Refactoring  \\\n",
       "0            0.0       0.0             0.0          0.0    0.0          0.0   \n",
       "1            0.0       0.0             0.0          0.0    0.0          0.0   \n",
       "2            0.0       0.0             0.0          0.0    0.0          0.0   \n",
       "3            0.0       1.0             0.0          0.0    0.0          0.0   \n",
       "4            0.0       0.0             0.0          0.0    0.0          0.0   \n",
       "\n",
       "   Token Replace  \n",
       "0            0.0  \n",
       "1            0.0  \n",
       "2            0.0  \n",
       "3            0.0  \n",
       "4            0.0  "
      ]
     },
     "execution_count": 2,
     "metadata": {},
     "output_type": "execute_result"
    }
   ],
   "source": [
    "df1 = pd.read_csv('data/Final_Label_10000.csv')\n",
    "df1 = df1[df1['Tagger ID'] == 'jy']\n",
    "print(df1.shape)\n",
    "df1.head()\n",
    "\n",
    "df2 = pd.read_csv('data/jincheng3000.csv')\n",
    "print(df2.shape)\n",
    "\n",
    "df =pd.concat([df1, df2], ignore_index=True)\n",
    "\n",
    "df = df.drop(['commit link_x', 'excluded','Commit ID','total_files','deleted_files','check', 'Tagger ID','commit link','testing', 'build'], axis = 1)\n",
    "df = df[['application', 'csha', 'commit message', 'maintenance', 'Bug fix', \n",
    "        'Documentation', 'Clean up','Source Control', 'Feature Add', 'Merge', 'Refactoring','Token Replace']]\n",
    "print(df.shape)\n",
    "df.head()"
   ]
  },
  {
   "cell_type": "markdown",
   "metadata": {},
   "source": [
    "### Tags Preprocessing"
   ]
  },
  {
   "cell_type": "code",
   "execution_count": 3,
   "metadata": {},
   "outputs": [
    {
     "name": "stdout",
     "output_type": "stream",
     "text": [
      "Corrective : 627\n",
      "Adaptive : 742\n",
      "Perfective : 3338\n",
      "Implementation : 864\n",
      "Non_functional : 95\n",
      "Other : 95\n"
     ]
    }
   ],
   "source": [
    "new_df = df.copy()\n",
    "def group_labels_new(df, labels_to_group, new_label):\n",
    "    '''\n",
    "    Group some of labels\n",
    "\n",
    "    Args:\n",
    "        df - dataframe\n",
    "        labels_to_group -  List of labels you want to group\n",
    "        new_label -  string - new label name of grouped labels\n",
    "\n",
    "    Returns:\n",
    "        new_df - dataframe after grouped\n",
    "    '''\n",
    "    new_df = df.copy()\n",
    "\n",
    "    # generate new labels by group labels\n",
    "    def create_new_label(row, labels):\n",
    "        new_label = 0  # initialize new label\n",
    "        for label in labels:\n",
    "            if row[label] == 1:\n",
    "                new_label = 1  # if one of labels in grouped labels is 1 the new label is 1\n",
    "        return new_label\n",
    "\n",
    "    new_df[new_label] = df.apply(lambda row: create_new_label(row, labels_to_group), axis=1)\n",
    "\n",
    "    # generate list of new_categories\n",
    "\n",
    "    return new_df\n",
    "\n",
    "new_df = group_labels_new(new_df, ['Bug fix'], 'Corrective')\n",
    "new_df = group_labels_new(new_df, ['Documentation'], 'Adaptive')\n",
    "new_df = group_labels_new(new_df, ['Clean up', 'maintenance','Refactoring'], 'Perfective')\n",
    "new_df = group_labels_new(new_df, ['Feature Add'], 'Implementation')\n",
    "new_df = group_labels_new(new_df, ['Token Replace','Merge'], 'Non_functional')\n",
    "new_df = group_labels_new(new_df, ['Source Control'], 'Other')\n",
    "\n",
    "target_col = ['Corrective','Adaptive','Perfective','Implementation','Non_functional','Other']\n",
    "multi_count = categories_count(new_df, target_col)"
   ]
  },
  {
   "cell_type": "code",
   "execution_count": 4,
   "metadata": {},
   "outputs": [
    {
     "name": "stdout",
     "output_type": "stream",
     "text": [
      "Corrective : 627\n",
      "Adaptive : 742\n",
      "Perfective : 3338\n",
      "Implementation : 864\n",
      "1    5020\n",
      "0     613\n",
      "2     262\n",
      "3       9\n",
      "dtype: int64\n"
     ]
    },
    {
     "data": {
      "image/png": "[encoded data removed]",
      "text/plain": [
       "<Figure size 720x432 with 1 Axes>"
      ]
     },
     "metadata": {},
     "output_type": "display_data"
    },
    {
     "name": "stdout",
     "output_type": "stream",
     "text": [
      "current number of samples: 5904\n",
      "number of samples after drop:5020\n"
     ]
    }
   ],
   "source": [
    "# Drop 'Non-functional' and 'Other'\n",
    "\n",
    "new_df = new_df.drop(['Non_functional','Other'],axis = 1)\n",
    "\n",
    "target_col = ['Corrective','Adaptive','Perfective','Implementation']\n",
    "multi_count = categories_count(new_df, target_col)\n",
    "\n",
    "# Drop rows with multiple labels\n",
    "target_col = ['Corrective','Adaptive','Perfective','Implementation']\n",
    "multi_count = number_of_labels(new_df, target_col)\n",
    "\n",
    "print('current number of samples: %d'%new_df.shape[0])\n",
    "new_df['label_sum'] = new_df[target_col].sum(axis=1)\n",
    "new_df = new_df[new_df['label_sum']==1].reset_index(drop=True)\n",
    "print('number of samples after drop:%d'%new_df.shape[0])\n",
    "new_df = new_df.drop(['label_sum'], axis = 1)\n",
    "\n",
    "# Drop target col\n",
    "# new_df = new_df[new_df['Corrective']!=1].reset_index(drop=True)\n",
    "# target_col = ['Adaptive','Perfective','Implementation']\n",
    "\n",
    "# new_df = new_df[new_df['Implementation']!=1].reset_index(drop=True)\n",
    "# target_col = ['Adaptive','Perfective','Corrective']\n",
    "\n",
    "# form target cols\n",
    "new_df['target_class'] = np.argmax(new_df[target_col].values, axis = 1)\n",
    "new_df = new_df[~new_df['commit message'].isnull()]"
   ]
  },
  {
   "cell_type": "markdown",
   "metadata": {},
   "source": [
    "### TD-IDF and Machine Learning"
   ]
  },
  {
   "cell_type": "code",
   "execution_count": 5,
   "metadata": {},
   "outputs": [],
   "source": [
    "from scipy import sparse as sp_sparse\n",
    "from sklearn.feature_extraction.text import TfidfVectorizer\n",
    "from collections import Counter\n",
    "from sklearn.model_selection import train_test_split\n",
    "from sklearn.linear_model import LogisticRegression\n",
    "from sklearn.model_selection import train_test_split\n",
    "from sklearn.tree import DecisionTreeClassifier\n",
    "from sklearn.metrics import classification_report, confusion_matrix\n",
    "from sklearn.model_selection import GridSearchCV\n",
    "from sklearn.pipeline import Pipeline\n",
    "from sklearn.metrics import accuracy_score\n",
    "from sklearn.metrics import f1_score\n",
    "from sklearn.metrics import roc_auc_score \n",
    "from sklearn.metrics import average_precision_score\n",
    "from sklearn.metrics import recall_score\n",
    "from scipy.sparse import coo_matrix, hstack\n",
    "\n",
    "from skmultilearn.problem_transform import BinaryRelevance\n",
    "from sklearn.naive_bayes import GaussianNB\n",
    "\n",
    "def print_evaluation_scores(y_test, predicted):\n",
    "    \n",
    "    print('Accuracy:', accuracy_score(y_test, predicted))\n",
    "    print('F1-score macro:', f1_score(y_test, predicted, average='macro'))\n",
    "    print('F1-score micro:', f1_score(y_test, predicted, average='micro'))\n",
    "    print('F1-score weighted:', f1_score(y_test, predicted, average='weighted'))"
   ]
  },
  {
   "cell_type": "code",
   "execution_count": 6,
   "metadata": {},
   "outputs": [],
   "source": [
    "# # drop too long commits\n",
    "# new_df['len_seq'] = new_df.apply(lambda row: len(row['commit message'].split()), axis = 1)\n",
    "# new_df = new_df[new_df['len_seq'] >= 3].reset_index(drop = True)"
   ]
  },
  {
   "cell_type": "code",
   "execution_count": 7,
   "metadata": {},
   "outputs": [
    {
     "name": "stdout",
     "output_type": "stream",
     "text": [
      "X train shape :  (4410, 28729)\n",
      "X test shape :  (490, 28729)\n"
     ]
    }
   ],
   "source": [
    "def tfidf_features(X):\n",
    "    \"\"\"\n",
    "        X_train, X_val, X_test — samples        \n",
    "        return TF-IDF vectorized representation of each sample and vocabulary\n",
    "    \"\"\"\n",
    "    # Create TF-IDF vectorizer with a proper parameters choice\n",
    "    # Fit the vectorizer on the train set\n",
    "    # Transform the train, test, and val sets and return the result\n",
    "    \n",
    "    \n",
    "    tfidf_vectorizer = TfidfVectorizer(min_df=0, max_df=1.0, ngram_range=(1, 2),token_pattern='(\\S+)')\n",
    "    \n",
    "    X = tfidf_vectorizer.fit_transform(X)\n",
    "    \n",
    "    return X,tfidf_vectorizer.vocabulary_\n",
    "\n",
    "X = new_df['commit message'].values\n",
    "y = new_df['target_class'].values\n",
    "X_tfidf, tfidf_vocab = tfidf_features(X)\n",
    "tfidf_reversed_vocab = {i:word for word,i in tfidf_vocab.items()}\n",
    "X_train, X_test, y_train, y_test = train_test_split(X_tfidf, y, test_size=0.1, random_state=42)\n",
    "\n",
    "print('X train shape : ', X_train.shape)\n",
    "print('X test shape : ', X_test.shape)"
   ]
  },
  {
   "cell_type": "markdown",
   "metadata": {},
   "source": [
    "### Logistic Regression"
   ]
  },
  {
   "cell_type": "code",
   "execution_count": 8,
   "metadata": {},
   "outputs": [],
   "source": [
    "from sklearn.model_selection import StratifiedKFold, KFold"
   ]
  },
  {
   "cell_type": "code",
   "execution_count": 9,
   "metadata": {},
   "outputs": [
    {
     "name": "stdout",
     "output_type": "stream",
     "text": [
      "========================================================\n",
      "Accuracy: 0.7040816326530612\n",
      "F1-score macro: 0.4831495990571587\n",
      "F1-score micro: 0.7040816326530612\n",
      "F1-score weighted: 0.6607443676131267\n",
      "========================================================\n",
      "Accuracy: 0.6428571428571429\n",
      "F1-score macro: 0.44427745131939383\n",
      "F1-score micro: 0.6428571428571429\n",
      "F1-score weighted: 0.5856656128086379\n",
      "========================================================\n"
     ]
    },
    {
     "name": "stderr",
     "output_type": "stream",
     "text": [
      "/Users/apple/venv/lib/python3.6/site-packages/sklearn/linear_model/sag.py:337: ConvergenceWarning: The max_iter was reached which means the coef_ did not converge\n",
      "  \"the coef_ did not converge\", ConvergenceWarning)\n"
     ]
    },
    {
     "name": "stdout",
     "output_type": "stream",
     "text": [
      "Accuracy: 0.6551020408163265\n",
      "F1-score macro: 0.43879185809547927\n",
      "F1-score micro: 0.6551020408163265\n",
      "F1-score weighted: 0.6054860747612724\n",
      "========================================================\n",
      "Accuracy: 0.6571428571428571\n",
      "F1-score macro: 0.4596570416751431\n",
      "F1-score micro: 0.6571428571428571\n",
      "F1-score weighted: 0.6149135114336268\n",
      "========================================================\n"
     ]
    },
    {
     "ename": "KeyboardInterrupt",
     "evalue": "",
     "output_type": "error",
     "traceback": [
      "\u001b[0;31m---------------------------------------------------------------------------\u001b[0m",
      "\u001b[0;31mKeyboardInterrupt\u001b[0m                         Traceback (most recent call last)",
      "\u001b[0;32m<ipython-input-9-1c8a7a054d19>\u001b[0m in \u001b[0;36m<module>\u001b[0;34m()\u001b[0m\n\u001b[1;32m      8\u001b[0m     \u001b[0my_train\u001b[0m\u001b[0;34m,\u001b[0m \u001b[0my_test\u001b[0m \u001b[0;34m=\u001b[0m \u001b[0my\u001b[0m\u001b[0;34m[\u001b[0m\u001b[0mtrain_index\u001b[0m\u001b[0;34m]\u001b[0m\u001b[0;34m,\u001b[0m \u001b[0my\u001b[0m\u001b[0;34m[\u001b[0m\u001b[0mtest_index\u001b[0m\u001b[0;34m]\u001b[0m\u001b[0;34m\u001b[0m\u001b[0m\n\u001b[1;32m      9\u001b[0m \u001b[0;34m\u001b[0m\u001b[0m\n\u001b[0;32m---> 10\u001b[0;31m     \u001b[0mclf\u001b[0m \u001b[0;34m=\u001b[0m \u001b[0mLogisticRegression\u001b[0m\u001b[0;34m(\u001b[0m\u001b[0mpenalty\u001b[0m \u001b[0;34m=\u001b[0m \u001b[0;34m'l1'\u001b[0m\u001b[0;34m,\u001b[0m \u001b[0mC\u001b[0m \u001b[0;34m=\u001b[0m \u001b[0;36m2.5\u001b[0m\u001b[0;34m,\u001b[0m \u001b[0mrandom_state\u001b[0m\u001b[0;34m=\u001b[0m\u001b[0;36m0\u001b[0m\u001b[0;34m,\u001b[0m \u001b[0msolver\u001b[0m\u001b[0;34m=\u001b[0m\u001b[0;34m'saga'\u001b[0m\u001b[0;34m,\u001b[0m \u001b[0mmulti_class\u001b[0m\u001b[0;34m=\u001b[0m\u001b[0;34m'multinomial'\u001b[0m\u001b[0;34m,\u001b[0m\u001b[0mmax_iter\u001b[0m\u001b[0;34m=\u001b[0m\u001b[0;36m1000\u001b[0m\u001b[0;34m)\u001b[0m\u001b[0;34m.\u001b[0m\u001b[0mfit\u001b[0m\u001b[0;34m(\u001b[0m\u001b[0mX_train\u001b[0m\u001b[0;34m,\u001b[0m \u001b[0my_train\u001b[0m\u001b[0;34m)\u001b[0m\u001b[0;34m\u001b[0m\u001b[0m\n\u001b[0m\u001b[1;32m     11\u001b[0m     \u001b[0my_pre_test\u001b[0m \u001b[0;34m=\u001b[0m \u001b[0mclf\u001b[0m\u001b[0;34m.\u001b[0m\u001b[0mpredict\u001b[0m\u001b[0;34m(\u001b[0m\u001b[0mX_test\u001b[0m\u001b[0;34m)\u001b[0m\u001b[0;34m\u001b[0m\u001b[0m\n\u001b[1;32m     12\u001b[0m     \u001b[0mpredictions\u001b[0m \u001b[0;34m=\u001b[0m \u001b[0mclf\u001b[0m\u001b[0;34m.\u001b[0m\u001b[0mpredict_proba\u001b[0m\u001b[0;34m(\u001b[0m\u001b[0mX_test\u001b[0m\u001b[0;34m)\u001b[0m\u001b[0;34m\u001b[0m\u001b[0m\n",
      "\u001b[0;32m~/venv/lib/python3.6/site-packages/sklearn/linear_model/logistic.py\u001b[0m in \u001b[0;36mfit\u001b[0;34m(self, X, y, sample_weight)\u001b[0m\n\u001b[1;32m   1604\u001b[0m                       \u001b[0mpenalty\u001b[0m\u001b[0;34m=\u001b[0m\u001b[0mpenalty\u001b[0m\u001b[0;34m,\u001b[0m \u001b[0mmax_squared_sum\u001b[0m\u001b[0;34m=\u001b[0m\u001b[0mmax_squared_sum\u001b[0m\u001b[0;34m,\u001b[0m\u001b[0;34m\u001b[0m\u001b[0m\n\u001b[1;32m   1605\u001b[0m                       sample_weight=sample_weight)\n\u001b[0;32m-> 1606\u001b[0;31m             for class_, warm_start_coef_ in zip(classes_, warm_start_coef))\n\u001b[0m\u001b[1;32m   1607\u001b[0m \u001b[0;34m\u001b[0m\u001b[0m\n\u001b[1;32m   1608\u001b[0m         \u001b[0mfold_coefs_\u001b[0m\u001b[0;34m,\u001b[0m \u001b[0m_\u001b[0m\u001b[0;34m,\u001b[0m \u001b[0mn_iter_\u001b[0m \u001b[0;34m=\u001b[0m \u001b[0mzip\u001b[0m\u001b[0;34m(\u001b[0m\u001b[0;34m*\u001b[0m\u001b[0mfold_coefs_\u001b[0m\u001b[0;34m)\u001b[0m\u001b[0;34m\u001b[0m\u001b[0m\n",
      "\u001b[0;32m~/venv/lib/python3.6/site-packages/joblib/parallel.py\u001b[0m in \u001b[0;36m__call__\u001b[0;34m(self, iterable)\u001b[0m\n\u001b[1;32m    919\u001b[0m             \u001b[0;31m# remaining jobs.\u001b[0m\u001b[0;34m\u001b[0m\u001b[0;34m\u001b[0m\u001b[0m\n\u001b[1;32m    920\u001b[0m             \u001b[0mself\u001b[0m\u001b[0;34m.\u001b[0m\u001b[0m_iterating\u001b[0m \u001b[0;34m=\u001b[0m \u001b[0;32mFalse\u001b[0m\u001b[0;34m\u001b[0m\u001b[0m\n\u001b[0;32m--> 921\u001b[0;31m             \u001b[0;32mif\u001b[0m \u001b[0mself\u001b[0m\u001b[0;34m.\u001b[0m\u001b[0mdispatch_one_batch\u001b[0m\u001b[0;34m(\u001b[0m\u001b[0miterator\u001b[0m\u001b[0;34m)\u001b[0m\u001b[0;34m:\u001b[0m\u001b[0;34m\u001b[0m\u001b[0m\n\u001b[0m\u001b[1;32m    922\u001b[0m                 \u001b[0mself\u001b[0m\u001b[0;34m.\u001b[0m\u001b[0m_iterating\u001b[0m \u001b[0;34m=\u001b[0m \u001b[0mself\u001b[0m\u001b[0;34m.\u001b[0m\u001b[0m_original_iterator\u001b[0m \u001b[0;32mis\u001b[0m \u001b[0;32mnot\u001b[0m \u001b[0;32mNone\u001b[0m\u001b[0;34m\u001b[0m\u001b[0m\n\u001b[1;32m    923\u001b[0m \u001b[0;34m\u001b[0m\u001b[0m\n",
      "\u001b[0;32m~/venv/lib/python3.6/site-packages/joblib/parallel.py\u001b[0m in \u001b[0;36mdispatch_one_batch\u001b[0;34m(self, iterator)\u001b[0m\n\u001b[1;32m    757\u001b[0m                 \u001b[0;32mreturn\u001b[0m \u001b[0;32mFalse\u001b[0m\u001b[0;34m\u001b[0m\u001b[0m\n\u001b[1;32m    758\u001b[0m             \u001b[0;32melse\u001b[0m\u001b[0;34m:\u001b[0m\u001b[0;34m\u001b[0m\u001b[0m\n\u001b[0;32m--> 759\u001b[0;31m                 \u001b[0mself\u001b[0m\u001b[0;34m.\u001b[0m\u001b[0m_dispatch\u001b[0m\u001b[0;34m(\u001b[0m\u001b[0mtasks\u001b[0m\u001b[0;34m)\u001b[0m\u001b[0;34m\u001b[0m\u001b[0m\n\u001b[0m\u001b[1;32m    760\u001b[0m                 \u001b[0;32mreturn\u001b[0m \u001b[0;32mTrue\u001b[0m\u001b[0;34m\u001b[0m\u001b[0m\n\u001b[1;32m    761\u001b[0m \u001b[0;34m\u001b[0m\u001b[0m\n",
      "\u001b[0;32m~/venv/lib/python3.6/site-packages/joblib/parallel.py\u001b[0m in \u001b[0;36m_dispatch\u001b[0;34m(self, batch)\u001b[0m\n\u001b[1;32m    714\u001b[0m         \u001b[0;32mwith\u001b[0m \u001b[0mself\u001b[0m\u001b[0;34m.\u001b[0m\u001b[0m_lock\u001b[0m\u001b[0;34m:\u001b[0m\u001b[0;34m\u001b[0m\u001b[0m\n\u001b[1;32m    715\u001b[0m             \u001b[0mjob_idx\u001b[0m \u001b[0;34m=\u001b[0m \u001b[0mlen\u001b[0m\u001b[0;34m(\u001b[0m\u001b[0mself\u001b[0m\u001b[0;34m.\u001b[0m\u001b[0m_jobs\u001b[0m\u001b[0;34m)\u001b[0m\u001b[0;34m\u001b[0m\u001b[0m\n\u001b[0;32m--> 716\u001b[0;31m             \u001b[0mjob\u001b[0m \u001b[0;34m=\u001b[0m \u001b[0mself\u001b[0m\u001b[0;34m.\u001b[0m\u001b[0m_backend\u001b[0m\u001b[0;34m.\u001b[0m\u001b[0mapply_async\u001b[0m\u001b[0;34m(\u001b[0m\u001b[0mbatch\u001b[0m\u001b[0;34m,\u001b[0m \u001b[0mcallback\u001b[0m\u001b[0;34m=\u001b[0m\u001b[0mcb\u001b[0m\u001b[0;34m)\u001b[0m\u001b[0;34m\u001b[0m\u001b[0m\n\u001b[0m\u001b[1;32m    717\u001b[0m             \u001b[0;31m# A job can complete so quickly than its callback is\u001b[0m\u001b[0;34m\u001b[0m\u001b[0;34m\u001b[0m\u001b[0m\n\u001b[1;32m    718\u001b[0m             \u001b[0;31m# called before we get here, causing self._jobs to\u001b[0m\u001b[0;34m\u001b[0m\u001b[0;34m\u001b[0m\u001b[0m\n",
      "\u001b[0;32m~/venv/lib/python3.6/site-packages/joblib/_parallel_backends.py\u001b[0m in \u001b[0;36mapply_async\u001b[0;34m(self, func, callback)\u001b[0m\n\u001b[1;32m    180\u001b[0m     \u001b[0;32mdef\u001b[0m \u001b[0mapply_async\u001b[0m\u001b[0;34m(\u001b[0m\u001b[0mself\u001b[0m\u001b[0;34m,\u001b[0m \u001b[0mfunc\u001b[0m\u001b[0;34m,\u001b[0m \u001b[0mcallback\u001b[0m\u001b[0;34m=\u001b[0m\u001b[0;32mNone\u001b[0m\u001b[0;34m)\u001b[0m\u001b[0;34m:\u001b[0m\u001b[0;34m\u001b[0m\u001b[0m\n\u001b[1;32m    181\u001b[0m         \u001b[0;34m\"\"\"Schedule a func to be run\"\"\"\u001b[0m\u001b[0;34m\u001b[0m\u001b[0m\n\u001b[0;32m--> 182\u001b[0;31m         \u001b[0mresult\u001b[0m \u001b[0;34m=\u001b[0m \u001b[0mImmediateResult\u001b[0m\u001b[0;34m(\u001b[0m\u001b[0mfunc\u001b[0m\u001b[0;34m)\u001b[0m\u001b[0;34m\u001b[0m\u001b[0m\n\u001b[0m\u001b[1;32m    183\u001b[0m         \u001b[0;32mif\u001b[0m \u001b[0mcallback\u001b[0m\u001b[0;34m:\u001b[0m\u001b[0;34m\u001b[0m\u001b[0m\n\u001b[1;32m    184\u001b[0m             \u001b[0mcallback\u001b[0m\u001b[0;34m(\u001b[0m\u001b[0mresult\u001b[0m\u001b[0;34m)\u001b[0m\u001b[0;34m\u001b[0m\u001b[0m\n",
      "\u001b[0;32m~/venv/lib/python3.6/site-packages/joblib/_parallel_backends.py\u001b[0m in \u001b[0;36m__init__\u001b[0;34m(self, batch)\u001b[0m\n\u001b[1;32m    547\u001b[0m         \u001b[0;31m# Don't delay the application, to avoid keeping the input\u001b[0m\u001b[0;34m\u001b[0m\u001b[0;34m\u001b[0m\u001b[0m\n\u001b[1;32m    548\u001b[0m         \u001b[0;31m# arguments in memory\u001b[0m\u001b[0;34m\u001b[0m\u001b[0;34m\u001b[0m\u001b[0m\n\u001b[0;32m--> 549\u001b[0;31m         \u001b[0mself\u001b[0m\u001b[0;34m.\u001b[0m\u001b[0mresults\u001b[0m \u001b[0;34m=\u001b[0m \u001b[0mbatch\u001b[0m\u001b[0;34m(\u001b[0m\u001b[0;34m)\u001b[0m\u001b[0;34m\u001b[0m\u001b[0m\n\u001b[0m\u001b[1;32m    550\u001b[0m \u001b[0;34m\u001b[0m\u001b[0m\n\u001b[1;32m    551\u001b[0m     \u001b[0;32mdef\u001b[0m \u001b[0mget\u001b[0m\u001b[0;34m(\u001b[0m\u001b[0mself\u001b[0m\u001b[0;34m)\u001b[0m\u001b[0;34m:\u001b[0m\u001b[0;34m\u001b[0m\u001b[0m\n",
      "\u001b[0;32m~/venv/lib/python3.6/site-packages/joblib/parallel.py\u001b[0m in \u001b[0;36m__call__\u001b[0;34m(self)\u001b[0m\n\u001b[1;32m    223\u001b[0m         \u001b[0;32mwith\u001b[0m \u001b[0mparallel_backend\u001b[0m\u001b[0;34m(\u001b[0m\u001b[0mself\u001b[0m\u001b[0;34m.\u001b[0m\u001b[0m_backend\u001b[0m\u001b[0;34m,\u001b[0m \u001b[0mn_jobs\u001b[0m\u001b[0;34m=\u001b[0m\u001b[0mself\u001b[0m\u001b[0;34m.\u001b[0m\u001b[0m_n_jobs\u001b[0m\u001b[0;34m)\u001b[0m\u001b[0;34m:\u001b[0m\u001b[0;34m\u001b[0m\u001b[0m\n\u001b[1;32m    224\u001b[0m             return [func(*args, **kwargs)\n\u001b[0;32m--> 225\u001b[0;31m                     for func, args, kwargs in self.items]\n\u001b[0m\u001b[1;32m    226\u001b[0m \u001b[0;34m\u001b[0m\u001b[0m\n\u001b[1;32m    227\u001b[0m     \u001b[0;32mdef\u001b[0m \u001b[0m__len__\u001b[0m\u001b[0;34m(\u001b[0m\u001b[0mself\u001b[0m\u001b[0;34m)\u001b[0m\u001b[0;34m:\u001b[0m\u001b[0;34m\u001b[0m\u001b[0m\n",
      "\u001b[0;32m~/venv/lib/python3.6/site-packages/joblib/parallel.py\u001b[0m in \u001b[0;36m<listcomp>\u001b[0;34m(.0)\u001b[0m\n\u001b[1;32m    223\u001b[0m         \u001b[0;32mwith\u001b[0m \u001b[0mparallel_backend\u001b[0m\u001b[0;34m(\u001b[0m\u001b[0mself\u001b[0m\u001b[0;34m.\u001b[0m\u001b[0m_backend\u001b[0m\u001b[0;34m,\u001b[0m \u001b[0mn_jobs\u001b[0m\u001b[0;34m=\u001b[0m\u001b[0mself\u001b[0m\u001b[0;34m.\u001b[0m\u001b[0m_n_jobs\u001b[0m\u001b[0;34m)\u001b[0m\u001b[0;34m:\u001b[0m\u001b[0;34m\u001b[0m\u001b[0m\n\u001b[1;32m    224\u001b[0m             return [func(*args, **kwargs)\n\u001b[0;32m--> 225\u001b[0;31m                     for func, args, kwargs in self.items]\n\u001b[0m\u001b[1;32m    226\u001b[0m \u001b[0;34m\u001b[0m\u001b[0m\n\u001b[1;32m    227\u001b[0m     \u001b[0;32mdef\u001b[0m \u001b[0m__len__\u001b[0m\u001b[0;34m(\u001b[0m\u001b[0mself\u001b[0m\u001b[0;34m)\u001b[0m\u001b[0;34m:\u001b[0m\u001b[0;34m\u001b[0m\u001b[0m\n",
      "\u001b[0;32m~/venv/lib/python3.6/site-packages/sklearn/linear_model/logistic.py\u001b[0m in \u001b[0;36m_logistic_regression_path\u001b[0;34m(X, y, pos_class, Cs, fit_intercept, max_iter, tol, verbose, solver, coef, class_weight, dual, penalty, intercept_scaling, multi_class, random_state, check_input, max_squared_sum, sample_weight, l1_ratio)\u001b[0m\n\u001b[1;32m    984\u001b[0m                 \u001b[0mbeta\u001b[0m\u001b[0;34m,\u001b[0m \u001b[0mmax_iter\u001b[0m\u001b[0;34m,\u001b[0m \u001b[0mtol\u001b[0m\u001b[0;34m,\u001b[0m\u001b[0;34m\u001b[0m\u001b[0m\n\u001b[1;32m    985\u001b[0m                 \u001b[0mverbose\u001b[0m\u001b[0;34m,\u001b[0m \u001b[0mrandom_state\u001b[0m\u001b[0;34m,\u001b[0m \u001b[0;32mFalse\u001b[0m\u001b[0;34m,\u001b[0m \u001b[0mmax_squared_sum\u001b[0m\u001b[0;34m,\u001b[0m \u001b[0mwarm_start_sag\u001b[0m\u001b[0;34m,\u001b[0m\u001b[0;34m\u001b[0m\u001b[0m\n\u001b[0;32m--> 986\u001b[0;31m                 is_saga=(solver == 'saga'))\n\u001b[0m\u001b[1;32m    987\u001b[0m \u001b[0;34m\u001b[0m\u001b[0m\n\u001b[1;32m    988\u001b[0m         \u001b[0;32melse\u001b[0m\u001b[0;34m:\u001b[0m\u001b[0;34m\u001b[0m\u001b[0m\n",
      "\u001b[0;32m~/venv/lib/python3.6/site-packages/sklearn/linear_model/sag.py\u001b[0m in \u001b[0;36msag_solver\u001b[0;34m(X, y, sample_weight, loss, alpha, beta, max_iter, tol, verbose, random_state, check_input, max_squared_sum, warm_start_mem, is_saga)\u001b[0m\n\u001b[1;32m    331\u001b[0m                             \u001b[0mintercept_decay\u001b[0m\u001b[0;34m,\u001b[0m\u001b[0;34m\u001b[0m\u001b[0m\n\u001b[1;32m    332\u001b[0m                             \u001b[0mis_saga\u001b[0m\u001b[0;34m,\u001b[0m\u001b[0;34m\u001b[0m\u001b[0m\n\u001b[0;32m--> 333\u001b[0;31m                             verbose)\n\u001b[0m\u001b[1;32m    334\u001b[0m \u001b[0;34m\u001b[0m\u001b[0m\n\u001b[1;32m    335\u001b[0m     \u001b[0;32mif\u001b[0m \u001b[0mn_iter_\u001b[0m \u001b[0;34m==\u001b[0m \u001b[0mmax_iter\u001b[0m\u001b[0;34m:\u001b[0m\u001b[0;34m\u001b[0m\u001b[0m\n",
      "\u001b[0;31mKeyboardInterrupt\u001b[0m: "
     ]
    }
   ],
   "source": [
    "skf = KFold(n_splits=10, random_state = 42, shuffle = True)\n",
    "skf.get_n_splits(X_tfidf, y)\n",
    "\n",
    "eval_result = []\n",
    "for train_index, test_index in skf.split(X, y):\n",
    "    print('========================================================')\n",
    "    X_train, X_test = X_tfidf[train_index], X_tfidf[test_index]\n",
    "    y_train, y_test = y[train_index], y[test_index]\n",
    "        \n",
    "    clf = LogisticRegression(penalty = 'l1', C = 2.5, random_state=0, solver='saga', multi_class='multinomial',max_iter=1000).fit(X_train, y_train)\n",
    "    y_pre_test = clf.predict(X_test)\n",
    "    predictions = clf.predict_proba(X_test) \n",
    "    print_evaluation_scores(y_test, y_pre_test)\n",
    "    \n",
    "    accu = accuracy_score(y_test, y_pre_test)\n",
    "    f1 = f1_score(y_test, y_pre_test, average='macro')\n",
    "    eval_result.append((accu, f1))"
   ]
  },
  {
   "cell_type": "code",
   "execution_count": 44,
   "metadata": {},
   "outputs": [
    {
     "name": "stdout",
     "output_type": "stream",
     "text": [
      "0.6701996717767039\n",
      "0.4656351148498093\n"
     ]
    }
   ],
   "source": [
    "sum_acc = 0\n",
    "sum_f1 = 0\n",
    "for item in eval_result:\n",
    "    sum_acc += item[0]\n",
    "    sum_f1 += item[1]\n",
    "\n",
    "print(sum_acc/10)\n",
    "print(sum_f1/10)"
   ]
  },
  {
   "cell_type": "markdown",
   "metadata": {},
   "source": [
    "#### Logsitic Regression One VS Rest Classifier"
   ]
  },
  {
   "cell_type": "code",
   "execution_count": 17,
   "metadata": {},
   "outputs": [
    {
     "name": "stderr",
     "output_type": "stream",
     "text": [
      "/Users/apple/venv/lib/python3.6/site-packages/sklearn/linear_model/sag.py:337: ConvergenceWarning: The max_iter was reached which means the coef_ did not converge\n",
      "  \"the coef_ did not converge\", ConvergenceWarning)\n",
      "/Users/apple/venv/lib/python3.6/site-packages/sklearn/linear_model/sag.py:337: ConvergenceWarning: The max_iter was reached which means the coef_ did not converge\n",
      "  \"the coef_ did not converge\", ConvergenceWarning)\n",
      "/Users/apple/venv/lib/python3.6/site-packages/sklearn/linear_model/sag.py:337: ConvergenceWarning: The max_iter was reached which means the coef_ did not converge\n",
      "  \"the coef_ did not converge\", ConvergenceWarning)\n"
     ]
    },
    {
     "name": "stdout",
     "output_type": "stream",
     "text": [
      "Best score for training data: 0.6707482993197279 \n",
      "\n",
      "Best parameters for training data: {'C': 5.5, 'multi_class': 'ovr', 'penalty': 'l1'} \n",
      "\n",
      "Best C: 5.5 \n",
      "\n",
      "Best penalty: l1 \n",
      "\n",
      "Accuracy: 0.7081632653061225\n",
      "F1-score macro: 0.5220289715581529\n",
      "F1-score micro: 0.7081632653061225\n",
      "F1-score weighted: 0.6755286254821168\n"
     ]
    }
   ],
   "source": [
    "from sklearn.model_selection import cross_val_score, GridSearchCV\n",
    "\n",
    "#Libraries to Build Ensemble Model : Random Forest Classifier \n",
    "# Create the parameter grid based on the results of random search \n",
    "params_grid = [{'penalty': ['l1'], \n",
    "                'C': [1.5,2.5,3.5,4.5,5.5,6.5,8,10,15], \n",
    "                'multi_class':['multinomial','ovr']}]\n",
    "\n",
    "clf = LogisticRegression(random_state=0,solver='saga',n_jobs=-1,max_iter=1000)\n",
    "\n",
    "lr_model = GridSearchCV(clf, params_grid, cv=5)\n",
    "lr_model.fit(X_train, y_train)\n",
    "\n",
    "# View the accuracy score\n",
    "print('Best score for training data:', lr_model.best_score_,\"\\n\") \n",
    "print('Best parameters for training data:',lr_model.best_params_,'\\n')\n",
    "\n",
    "# View the best parameters for the model found using grid search\n",
    "print('Best C:',lr_model.best_estimator_.C,\"\\n\") \n",
    "print('Best penalty:',lr_model.best_estimator_.penalty,\"\\n\")\n",
    "\n",
    "final_model = lr_model.best_estimator_\n",
    "Y_pred = lr_model.predict(X_test)\n",
    "print_evaluation_scores(y_test, Y_pred)"
   ]
  },
  {
   "cell_type": "markdown",
   "metadata": {},
   "source": [
    "### SVM"
   ]
  },
  {
   "cell_type": "code",
   "execution_count": 18,
   "metadata": {},
   "outputs": [
    {
     "data": {
      "text/plain": [
       "GridSearchCV(cv=5, error_score='raise-deprecating',\n",
       "             estimator=SVC(C=1.0, cache_size=200, class_weight=None, coef0=0.0,\n",
       "                           decision_function_shape='ovr', degree=3,\n",
       "                           gamma='auto_deprecated', kernel='rbf', max_iter=-1,\n",
       "                           probability=False, random_state=None, shrinking=True,\n",
       "                           tol=0.001, verbose=False),\n",
       "             iid='warn', n_jobs=None,\n",
       "             param_grid=[{'C': [1, 5, 10, 20, 50, 100, 200, 500, 1000, 5000],\n",
       "                          'decision_function_shape': ['ovo', 'ovr'],\n",
       "                          'gamma': [0.1, 0.01, 0.001, 0.0001, 1e-05],\n",
       "                          'kernel': ['rbf']},\n",
       "                         {'C': [1, 5, 10, 20, 50, 100, 200, 500, 1000, 5000],\n",
       "                          'decision_function_shape': ['ovo', 'ovr'],\n",
       "                          'kernel': ['linear']}],\n",
       "             pre_dispatch='2*n_jobs', refit=True, return_train_score=False,\n",
       "             scoring=None, verbose=0)"
      ]
     },
     "execution_count": 18,
     "metadata": {},
     "output_type": "execute_result"
    }
   ],
   "source": [
    "from sklearn.utils import shuffle\n",
    "from sklearn.svm import SVC\n",
    "from sklearn.metrics import confusion_matrix,classification_report\n",
    "from sklearn.model_selection import cross_val_score, GridSearchCV\n",
    "\n",
    "#Libraries to Build Ensemble Model : Random Forest Classifier \n",
    "# Create the parameter grid based on the results of random search \n",
    "params_grid = [{'kernel': ['rbf'], 'gamma': [1e-1, 1e-2, 1e-3, 1e-4, 1e-5], 'C': [1, 5, 10, 20, 50, 100, 200, 500, 1000, 5000], 'decision_function_shape':['ovo','ovr']},\n",
    "               {'kernel': ['linear'], 'C': [1, 5, 10, 20, 50, 100, 200, 500, 1000, 5000], 'decision_function_shape':['ovo','ovr']}]\n",
    "\n",
    "svm_model = GridSearchCV(SVC(), params_grid, cv=5)\n",
    "svm_model.fit(X_train, y_train)"
   ]
  },
  {
   "cell_type": "code",
   "execution_count": 19,
   "metadata": {},
   "outputs": [
    {
     "name": "stdout",
     "output_type": "stream",
     "text": [
      "Best score for training data: 0.6798185941043083 \n",
      "\n",
      "Best parameters for training data: {'C': 10, 'decision_function_shape': 'ovo', 'gamma': 0.1, 'kernel': 'rbf'} \n",
      "\n",
      "Best C: 10 \n",
      "\n",
      "Best Kernel: rbf \n",
      "\n",
      "Best Gamma: 0.1 \n",
      "\n",
      "Accuracy: 0.7122448979591837\n",
      "F1-score macro: 0.5106395429119893\n",
      "F1-score micro: 0.7122448979591838\n",
      "F1-score weighted: 0.6714444755973846\n"
     ]
    }
   ],
   "source": [
    "# View the accuracy score\n",
    "print('Best score for training data:', svm_model.best_score_,\"\\n\") \n",
    "print('Best parameters for training data:',svm_model.best_params_,'\\n')\n",
    "\n",
    "# View the best parameters for the model found using grid search\n",
    "print('Best C:',svm_model.best_estimator_.C,\"\\n\") \n",
    "print('Best Kernel:',svm_model.best_estimator_.kernel,\"\\n\")\n",
    "print('Best Gamma:',svm_model.best_estimator_.gamma,\"\\n\")\n",
    "\n",
    "final_model = svm_model.best_estimator_\n",
    "Y_pred = final_model.predict(X_test)\n",
    "print_evaluation_scores(y_test, Y_pred)"
   ]
  },
  {
   "cell_type": "markdown",
   "metadata": {},
   "source": [
    "### Dense Layer Neural Network"
   ]
  },
  {
   "cell_type": "code",
   "execution_count": 20,
   "metadata": {},
   "outputs": [
    {
     "name": "stderr",
     "output_type": "stream",
     "text": [
      "Using TensorFlow backend.\n"
     ]
    }
   ],
   "source": [
    "import keras\n",
    "from keras import optimizers\n",
    "from keras.models import Sequential, Model\n",
    "from keras.layers import Dense, Dropout, Flatten, Input, MaxPooling1D, Convolution1D, Embedding\n",
    "from keras.layers.advanced_activations import PReLU\n",
    "from keras.layers.normalization import BatchNormalization\n",
    "from keras.wrappers.scikit_learn import KerasClassifier\n",
    "from keras.regularizers import l2\n",
    "from keras.layers.merge import Concatenate\n",
    "from keras import regularizers\n",
    "from keras.models import Sequential\n",
    "from keras.callbacks import EarlyStopping\n",
    "from tensorflow import set_random_seed\n",
    "from sklearn.model_selection import RandomizedSearchCV, cross_val_score, GridSearchCV\n",
    "from sklearn.metrics import confusion_matrix,classification_report\n",
    "import warnings\n",
    "import os\n",
    "import random\n",
    "import numpy as np\n",
    "import tensorflow as tf\n",
    "from keras import backend as K\n",
    "\n",
    "seed_value= 42\n",
    "os.environ['PYTHONHASHSEED']=str(seed_value)\n",
    "random.seed(seed_value)\n",
    "np.random.seed(seed_value)\n",
    "tf.set_random_seed(seed_value)\n",
    "session_conf = tf.ConfigProto(intra_op_parallelism_threads=1, inter_op_parallelism_threads=1)\n",
    "sess = tf.Session(graph=tf.get_default_graph(), config=session_conf)\n",
    "K.set_session(sess)\n",
    "warnings.filterwarnings('ignore')"
   ]
  },
  {
   "cell_type": "code",
   "execution_count": 21,
   "metadata": {},
   "outputs": [
    {
     "name": "stderr",
     "output_type": "stream",
     "text": [
      "WARNING: Logging before flag parsing goes to stderr.\n",
      "W0819 09:45:31.154328 4335547840 deprecation_wrapper.py:119] From /Users/apple/venv/lib/python3.6/site-packages/keras/backend/tensorflow_backend.py:74: The name tf.get_default_graph is deprecated. Please use tf.compat.v1.get_default_graph instead.\n",
      "\n",
      "W0819 09:45:31.158000 4335547840 deprecation_wrapper.py:119] From /Users/apple/venv/lib/python3.6/site-packages/keras/backend/tensorflow_backend.py:517: The name tf.placeholder is deprecated. Please use tf.compat.v1.placeholder instead.\n",
      "\n",
      "W0819 09:45:31.181859 4335547840 deprecation_wrapper.py:119] From /Users/apple/venv/lib/python3.6/site-packages/keras/backend/tensorflow_backend.py:4138: The name tf.random_uniform is deprecated. Please use tf.random.uniform instead.\n",
      "\n",
      "W0819 09:45:31.378143 4335547840 deprecation_wrapper.py:119] From /Users/apple/venv/lib/python3.6/site-packages/keras/backend/tensorflow_backend.py:133: The name tf.placeholder_with_default is deprecated. Please use tf.compat.v1.placeholder_with_default instead.\n",
      "\n",
      "W0819 09:45:31.466506 4335547840 deprecation_wrapper.py:119] From /Users/apple/venv/lib/python3.6/site-packages/keras/optimizers.py:790: The name tf.train.Optimizer is deprecated. Please use tf.compat.v1.train.Optimizer instead.\n",
      "\n",
      "W0819 09:45:31.479389 4335547840 deprecation_wrapper.py:119] From /Users/apple/venv/lib/python3.6/site-packages/keras/backend/tensorflow_backend.py:3295: The name tf.log is deprecated. Please use tf.math.log instead.\n",
      "\n"
     ]
    },
    {
     "name": "stdout",
     "output_type": "stream",
     "text": [
      "_________________________________________________________________\n",
      "Layer (type)                 Output Shape              Param #   \n",
      "=================================================================\n",
      "dense_1 (Dense)              (None, 512)               243200    \n",
      "_________________________________________________________________\n",
      "batch_normalization_1 (Batch (None, 512)               2048      \n",
      "_________________________________________________________________\n",
      "p_re_lu_1 (PReLU)            (None, 512)               512       \n",
      "_________________________________________________________________\n",
      "dense_2 (Dense)              (None, 4)                 2052      \n",
      "=================================================================\n",
      "Total params: 247,812\n",
      "Trainable params: 246,788\n",
      "Non-trainable params: 1,024\n",
      "_________________________________________________________________\n",
      "X train shape :  (4410, 28537)\n",
      "X test shape :  (490, 28537)\n",
      "X train shape :  (3969, 28537)\n",
      "X val shape :  (441, 28537)\n"
     ]
    }
   ],
   "source": [
    "def tfidf_features(X):\n",
    "    \"\"\"\n",
    "        X_train, X_val, X_test — samples        \n",
    "        return TF-IDF vectorized representation of each sample and vocabulary\n",
    "    \"\"\"\n",
    "    # Create TF-IDF vectorizer with a proper parameters choice\n",
    "    # Fit the vectorizer on the train set\n",
    "    # Transform the train, test, and val sets and return the result\n",
    "    \n",
    "    \n",
    "    tfidf_vectorizer = TfidfVectorizer(min_df=0, max_df=1.0, ngram_range=(1, 2))\n",
    "    \n",
    "    X = tfidf_vectorizer.fit_transform(X)\n",
    "    \n",
    "    return X,tfidf_vectorizer.vocabulary_\n",
    "\n",
    "def dense_layer(n_input, \n",
    "                hidden_layers = [512], \n",
    "                dropout_rate = 0, \n",
    "                l2_penalty = 0.1, \n",
    "                optimizer = 'adam',\n",
    "                lr = 0.001,\n",
    "                n_class = 4): \n",
    "    \n",
    "    model = Sequential()\n",
    "    \n",
    "    # hidden layers\n",
    "    for index, hidden_units in enumerate(hidden_layers):       \n",
    "        if index == 0:\n",
    "            # specify the input_dim to be the number of features for the first layer\n",
    "            model.add(Dense(hidden_units, input_dim = n_input, kernel_regularizer = l2(l2_penalty)))\n",
    "        else:\n",
    "            model.add(Dense(hidden_units, kernel_regularizer = l2(l2_penalty)))\n",
    "        \n",
    "        # insert BatchNorm layer immediately after fully connected layers\n",
    "        # and before activation layer\n",
    "        model.add(BatchNormalization())\n",
    "        model.add(PReLU())        \n",
    "        if dropout_rate != 0:\n",
    "            model.add(Dropout(dropout_rate))\n",
    "    \n",
    "    # finial layers\n",
    "    model.add(Dense(n_class, activation=\"softmax\"))\n",
    "    model.compile(loss=\"categorical_crossentropy\", \n",
    "                    optimizer= optimizers.Adam(lr=lr),\n",
    "                    metrics=['accuracy'])\n",
    "    return model \n",
    "\n",
    "dense_layer(474).summary()\n",
    "X = new_df['commit message'].values\n",
    "y = new_df[target_col].values\n",
    "X_tfidf, tfidf_vocab = tfidf_features(X)\n",
    "tfidf_reversed_vocab = {i:word for word,i in tfidf_vocab.items()}\n",
    "X_train, X_test, y_train, y_test = train_test_split(X_tfidf, y, test_size=0.1, random_state=42)\n",
    "\n",
    "print('X train shape : ', X_train.shape)\n",
    "print('X test shape : ', X_test.shape)\n",
    "\n",
    "X_train, X_val, y_train, y_val = train_test_split(X_train, y_train, test_size = 0.1, random_state = 42)\n",
    "\n",
    "print('X train shape : ', X_train.shape)\n",
    "print('X val shape : ', X_val.shape)"
   ]
  },
  {
   "cell_type": "code",
   "execution_count": 24,
   "metadata": {},
   "outputs": [
    {
     "name": "stdout",
     "output_type": "stream",
     "text": [
      "Train on 3969 samples, validate on 441 samples\n",
      "Epoch 1/200\n",
      " - 15s - loss: 95.5121 - acc: 0.5649 - val_loss: 11.6083 - val_acc: 0.6576\n",
      "Epoch 2/200\n",
      " - 12s - loss: 12.4152 - acc: 0.6893 - val_loss: 5.7216 - val_acc: 0.6599\n",
      "Epoch 3/200\n",
      " - 9s - loss: 3.1621 - acc: 0.6805 - val_loss: 2.4880 - val_acc: 0.6485\n",
      "Epoch 4/200\n",
      " - 9s - loss: 1.9462 - acc: 0.6697 - val_loss: 1.7070 - val_acc: 0.6576\n",
      "Epoch 5/200\n",
      " - 9s - loss: 1.6472 - acc: 0.6684 - val_loss: 1.6937 - val_acc: 0.6712\n",
      "Epoch 6/200\n",
      " - 11s - loss: 1.6593 - acc: 0.6780 - val_loss: 1.7389 - val_acc: 0.6712\n",
      "Epoch 7/200\n",
      " - 10s - loss: 1.7105 - acc: 0.6805 - val_loss: 1.7967 - val_acc: 0.6735\n",
      "Epoch 8/200\n",
      " - 9s - loss: 1.7535 - acc: 0.6848 - val_loss: 1.8410 - val_acc: 0.6803\n",
      "Epoch 9/200\n",
      " - 9s - loss: 1.7944 - acc: 0.6878 - val_loss: 1.8891 - val_acc: 0.6871\n",
      "Epoch 10/200\n",
      " - 9s - loss: 1.8300 - acc: 0.6863 - val_loss: 1.9307 - val_acc: 0.6757\n",
      "Epoch 11/200\n",
      " - 12s - loss: 1.8663 - acc: 0.6896 - val_loss: 1.9637 - val_acc: 0.6984\n",
      "Epoch 12/200\n",
      " - 13s - loss: 1.8691 - acc: 0.6936 - val_loss: 1.9740 - val_acc: 0.6825\n",
      "Epoch 13/200\n",
      " - 11s - loss: 1.8922 - acc: 0.7014 - val_loss: 2.0146 - val_acc: 0.6939\n",
      "Epoch 14/200\n",
      " - 12s - loss: 1.9059 - acc: 0.6969 - val_loss: 2.0246 - val_acc: 0.6939\n",
      "Epoch 15/200\n",
      " - 11s - loss: 1.9161 - acc: 0.7047 - val_loss: 2.0547 - val_acc: 0.6871\n",
      "Accuracy: 0.6918367346938775\n",
      "F1-score macro: 0.4091433457897062\n",
      "F1-score micro: 0.6918367346938775\n",
      "F1-score weighted: 0.6188312751526428\n"
     ]
    }
   ],
   "source": [
    "dense_network = dense_layer(X_train.shape[1],n_class = 4,\n",
    "                            hidden_layers = [512], \n",
    "                            dropout_rate = 0.5, \n",
    "                            l2_penalty = 0.3)\n",
    "early_stop = EarlyStopping(monitor = 'val_acc', min_delta = 0.01, patience = 10, verbose = 0, restore_best_weights = True)\n",
    "\n",
    "history = dense_network.fit(X_train, y_train, batch_size=256, epochs=200,\n",
    "                            validation_data=(X_val, y_val), verbose=2, shuffle = False, callbacks = [early_stop])\n",
    "\n",
    "y_pred = np.argmax(dense_network.predict(X_test), axis = 1)\n",
    "y_test_new = np.argmax(y_test, axis = 1)\n",
    "print_evaluation_scores(y_test_new, y_pred)"
   ]
  },
  {
   "cell_type": "code",
   "execution_count": null,
   "metadata": {},
   "outputs": [],
   "source": [
    "eval_"
   ]
  }
 ],
 "metadata": {
  "kernelspec": {
   "display_name": "Python 3",
   "language": "python",
   "name": "python3"
  },
  "language_info": {
   "codemirror_mode": {
    "name": "ipython",
    "version": 3
   },
   "file_extension": ".py",
   "mimetype": "text/x-python",
   "name": "python",
   "nbconvert_exporter": "python",
   "pygments_lexer": "ipython3",
   "version": "3.6.5"
  }
 },
 "nbformat": 4,
 "nbformat_minor": 2
}
